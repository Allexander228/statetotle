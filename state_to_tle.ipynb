{
 "cells": [
  {
   "cell_type": "code",
   "execution_count": 5,
   "id": "55b0eaba",
   "metadata": {},
   "outputs": [],
   "source": [
    "%matplotlib inline"
   ]
  },
  {
   "cell_type": "code",
   "execution_count": 6,
   "id": "dc362b1c",
   "metadata": {},
   "outputs": [],
   "source": [
    "import orekit\n",
    "vm = orekit.initVM()\n",
    "import warnings\n",
    "warnings.filterwarnings('ignore')\n",
    "import ipydatetime\n",
    "import ipywidgets as widgets\n",
    "from IPython.display import display, clear_output"
   ]
  },
  {
   "cell_type": "code",
   "execution_count": 7,
   "id": "34a32b68",
   "metadata": {},
   "outputs": [
    {
     "name": "stdout",
     "output_type": "stream",
     "text": [
      "Downloading file from: https://gitlab.orekit.org/orekit/orekit-data/-/archive/master/orekit-data-master.zip\n"
     ]
    }
   ],
   "source": [
    "from orekit.pyhelpers import setup_orekit_curdir\n",
    "setup_orekit_curdir()\n",
    "orekit.pyhelpers.download_orekit_data_curdir()"
   ]
  },
  {
   "cell_type": "code",
   "execution_count": 8,
   "id": "c1848d0a",
   "metadata": {},
   "outputs": [],
   "source": [
    "from org.orekit.frames import FramesFactory, TopocentricFrame\n",
    "from org.orekit.bodies import OneAxisEllipsoid, GeodeticPoint\n",
    "from org.orekit.time import TimeScalesFactory, AbsoluteDate, DateComponents, TimeComponents\n",
    "from org.orekit.utils import IERSConventions, Constants\n",
    "from org.orekit.propagation.analytical.tle import TLE, TLEPropagator\n",
    "\n",
    "from java.util import Arrays\n",
    "from orekit import JArray_double\n",
    "from org.orekit.bodies import  OneAxisEllipsoid, GeodeticPoint\n",
    "from org.orekit.frames import  FramesFactory, TopocentricFrame\n",
    "from org.orekit.data import DataProvidersManager, ZipJarCrawler\n",
    "from org.orekit.time import TimeScalesFactory, AbsoluteDate, DateComponents, TimeComponents\n",
    "from org.orekit.orbits import KeplerianOrbit, CartesianOrbit\n",
    "from org.orekit.utils import Constants\n",
    "from org.orekit.propagation.analytical import EcksteinHechlerPropagator, KeplerianPropagator\n",
    "from org.orekit.propagation.analytical.tle import TLE, TLEPropagator\n",
    "from org.orekit.propagation.conversion import FiniteDifferencePropagatorConverter\n",
    "from org.orekit.propagation.conversion import TLEPropagatorBuilder\n",
    "from datetime import datetime\n",
    "from org.orekit.propagation import SpacecraftState\n",
    "from org.orekit.orbits import OrbitType, PositionAngle\n",
    "from org.orekit.propagation.numerical import NumericalPropagator\n",
    "from org.hipparchus.ode.nonstiff import DormandPrince853Integrator\n",
    "from org.hipparchus.ode.nonstiff import ClassicalRungeKuttaIntegrator\n",
    "from org.hipparchus.geometry.euclidean.threed import Vector3D\n",
    "from org.orekit.forces.gravity.potential import GravityFieldFactory\n",
    "from org.orekit.forces.gravity import HolmesFeatherstoneAttractionModel\n",
    "from org.orekit.utils import IERSConventions, PVCoordinates, Constants\n",
    "from java.io import File\n",
    "\n",
    "#%% imports for matplotlib, math, and numpy\n",
    "\n",
    "import matplotlib.dates as mdates\n",
    "from math import radians, pi\n",
    "import numpy as np\n",
    "import matplotlib.pyplot as plt\n",
    "import time\n",
    "from datetime import datetime\n",
    "#%% Some constants, ae, mu, utc\n",
    "ae = Constants.WGS84_EARTH_EQUATORIAL_RADIUS\n",
    "mu = Constants.WGS84_EARTH_MU\n",
    "utc = TimeScalesFactory.getUTC()"
   ]
  },
  {
   "cell_type": "code",
   "execution_count": 9,
   "id": "e6e73bc7",
   "metadata": {},
   "outputs": [],
   "source": [
    "j2000 = FramesFactory.getEME2000()\n",
    "earth_frame = FramesFactory.getITRF(IERSConventions.IERS_2010, True)\n",
    "utc = TimeScalesFactory.getUTC()"
   ]
  },
  {
   "cell_type": "code",
   "execution_count": 10,
   "id": "bf6c88ba",
   "metadata": {},
   "outputs": [
    {
     "data": {
      "application/vnd.jupyter.widget-view+json": {
       "model_id": "42151e1f268341f49e100de23f350640",
       "version_major": 2,
       "version_minor": 0
      },
      "text/plain": [
       "HBox(children=(VBox(children=(HTML(value='<h1>Перевод вектора в TLE</h1>'), HTML(value='<h2> Система координат…"
      ]
     },
     "metadata": {},
     "output_type": "display_data"
    }
   ],
   "source": [
    "frame = widgets.RadioButtons(\n",
    "    options=['J2000', 'ITRF'],\n",
    "    value='ITRF',\n",
    "    layout={'width': 'max-content'}, # If the items' names are long\n",
    "    description='СК:',\n",
    "    disabled=False\n",
    ")\n",
    "tle_line1 = widgets.Text(placeholder='TLE line 1', layout={'width': '95%'})\n",
    "tle_line2 = widgets.Text(placeholder='TLE line 2', layout={'width': '95%'})\n",
    "x = widgets.Text(placeholder='X', description='Км')\n",
    "y = widgets.Text(placeholder='Y', description='Км')\n",
    "z = widgets.Text(placeholder='Z', description='Км')\n",
    "vx = widgets.Text(placeholder='Vx', description='Км/с')\n",
    "vy = widgets.Text(placeholder='Vy', description='Км/с')\n",
    "vz = widgets.Text(placeholder='Vz', description='Км/с')\n",
    "mass = widgets.Text(placeholder='масса', value = '100', description='Кг')\n",
    "s_time = widgets.Text(placeholder='Время', value = '900', description='Cек')\n",
    "date = widgets.DatePicker(description='Дата',disabled=False)\n",
    "time = ipydatetime.TimePicker(description = 'Время', step=0.001)\n",
    "step_time = widgets.Text(placeholder='Step time (secs)')\n",
    "button_send = widgets.Button(\n",
    "                description='Расчитать TLE',\n",
    "                tooltip='Send',\n",
    "                style={'description_width': 'initial'},\n",
    "                layout={'width': '50%'}\n",
    "            )\n",
    "\n",
    "output = widgets.Output()\n",
    "def on_button_clicked(event):\n",
    "\n",
    "    d = datetime.combine(date.value, time.value)\n",
    "    sf = d.strftime('%S.%f')\n",
    "    epochDate = AbsoluteDate(d.year, d.month, d.day, d.hour, d.minute, float(sf), utc)\n",
    "    step_time = int(s_time.value) #sec\n",
    "    satellite_mass = float(mass.value) # kg\n",
    "    mytle = TLE(tle_line1.value,tle_line2.value)\n",
    "\n",
    "    p = Vector3D(float(x.value) *1000,float(y.value) *1000,float(z.value) *1000)\n",
    "    v = Vector3D(float(vx.value) *1000,float(vy.value) *1000,float(vz.value) *1000)\n",
    "    pv = PVCoordinates(p, v)\n",
    "    j2000 = FramesFactory.getEME2000()\n",
    "    gtod_frame = FramesFactory.getGTOD(IERSConventions.IERS_2010, True)\n",
    "    \n",
    "    if frame.value == 'J2000':\n",
    "        initialOrbit = KeplerianOrbit(pv, j2000, epochDate, mu)\n",
    "    else:\n",
    "        tp = gtod_frame.getTransformTo(j2000, epochDate).transformPVCoordinates(pv).getPosition()\n",
    "        tv = gtod_frame.getTransformTo(j2000, epochDate).transformPVCoordinates(pv).getVelocity()\n",
    "        tpv = PVCoordinates(tp,tv)\n",
    "        initialOrbit = KeplerianOrbit(tpv, j2000, epochDate, mu)\n",
    "    \n",
    "    itrf    = FramesFactory.getITRF(IERSConventions.IERS_2010, True) # International Terrestrial Reference Frame, earth fixed\n",
    "    earth = OneAxisEllipsoid(Constants.WGS84_EARTH_EQUATORIAL_RADIUS,\n",
    "                             Constants.WGS84_EARTH_FLATTENING,\n",
    "                             itrf)\n",
    "    initialState = SpacecraftState(initialOrbit, satellite_mass)\n",
    "    initialDate = epochDate\n",
    "    integrator = ClassicalRungeKuttaIntegrator(30.0)\n",
    "    propagator = NumericalPropagator(integrator)\n",
    "    gravityProvider = GravityFieldFactory.getNormalizedProvider(8, 8)\n",
    "    propagator.addForceModel(HolmesFeatherstoneAttractionModel(earth.getBodyFrame(), gravityProvider))\n",
    "    startDate = epochDate\n",
    "    dt = startDate.shiftedBy(float(step_time))\n",
    "    propagator.setInitialState(initialState)\n",
    "    state = propagator.propagate(dt)\n",
    "    newpv = state.getPVCoordinates()\n",
    "    dtp = j2000.getTransformTo(gtod_frame, dt).transformPVCoordinates(newpv).getPosition()\n",
    "    dtv = j2000.getTransformTo(gtod_frame, dt).transformPVCoordinates(newpv).getVelocity()\n",
    "    dtpv = PVCoordinates(dtp, dtv)\n",
    "    neworbit = KeplerianOrbit(newpv, j2000, dt, mu)\n",
    "    newtle = TLE.stateToTLE(state, mytle)\n",
    "    mtle = TLE.stateToTLE(initialState, mytle)\n",
    "    with output:\n",
    "        clear_output()\n",
    "        print('')\n",
    "        print('Получившаяся TLE')\n",
    "        print(newtle)\n",
    "        print('')\n",
    "        print('Получившаяся орбита')\n",
    "        print(neworbit)\n",
    "        print('')\n",
    "        print('Исходная орбита')\n",
    "        print(initialOrbit)\n",
    "button_send.on_click(on_button_clicked)\n",
    "\n",
    "vbox_result = widgets.VBox([button_send, output])\n",
    "\n",
    "text_0 = widgets.HTML(value=\"<h1>Перевод вектора в TLE</h1>\")\n",
    "text_1 = widgets.HTML(value=\"<h2>Вектор состояния</h2>\")\n",
    "text_2= widgets.HTML(value=\"<h2>Вектор скорости </h2>\")\n",
    "text_3= widgets.HTML(value=\"<h2>Шаблонная TLE </h2>\")\n",
    "text_4 = widgets.HTML(value=\"<h2> На сколько продвигать? </h2>\")\n",
    "text_5 = widgets.HTML(value=\"<h2> Масса </h2>\")\n",
    "text_6 = widgets.HTML(value=\"<h2> Система координат </h2>\")\n",
    "text_7 = widgets.HTML(value=\"<h2> Время (UTC) </h2>\")\n",
    "vbox_text = widgets.VBox([text_0, text_6, frame, text_7, date, time, text_1, x, y, z, text_2, vx, vy, vz, text_3, tle_line1, tle_line2, text_4, s_time, text_5, mass, vbox_result])\n",
    "page = widgets.HBox([vbox_text])\n",
    "display(page)"
   ]
  },
  {
   "cell_type": "code",
   "execution_count": null,
   "id": "4509341c",
   "metadata": {},
   "outputs": [],
   "source": []
  }
 ],
 "metadata": {
  "kernelspec": {
   "display_name": "Python 3 (ipykernel)",
   "language": "python",
   "name": "python3"
  },
  "language_info": {
   "codemirror_mode": {
    "name": "ipython",
    "version": 3
   },
   "file_extension": ".py",
   "mimetype": "text/x-python",
   "name": "python",
   "nbconvert_exporter": "python",
   "pygments_lexer": "ipython3",
   "version": "3.9.7"
  }
 },
 "nbformat": 4,
 "nbformat_minor": 5
}
